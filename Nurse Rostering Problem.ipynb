{
 "cells": [
  {
   "cell_type": "markdown",
   "metadata": {},
   "source": [
    "# Norse Rostering Problem"
   ]
  },
  {
   "cell_type": "markdown",
   "metadata": {},
   "source": [
    "## Import library"
   ]
  },
  {
   "cell_type": "code",
   "execution_count": 1,
   "metadata": {},
   "outputs": [],
   "source": [
    "from __future__ import division\n",
    "from __future__ import print_function\n",
    "import random\n",
    "import copy\n",
    "import timeit"
   ]
  },
  {
   "cell_type": "markdown",
   "metadata": {},
   "source": [
    "## Data"
   ]
  },
  {
   "cell_type": "code",
   "execution_count": 2,
   "metadata": {},
   "outputs": [],
   "source": [
    "ability_nurses = [[0, 1, 2], [3, 2, 1], [1, 3, 2], [1, 2, 3], [2, 3, 1], [3, 3, 3]]\n",
    "num_shifts = 4\n",
    "num_nurses = 6\n",
    "num_days = 3\n",
    "n_0 = 2\n",
    "n_1 = 2\n",
    "n_2 = 1\n",
    "w_1 = 2\n",
    "w_2 = 3\n",
    "w_3 = 3\n",
    "w_4 = 3"
   ]
  },
  {
   "cell_type": "markdown",
   "metadata": {},
   "source": [
    "## Initiation global variables"
   ]
  },
  {
   "cell_type": "code",
   "execution_count": 3,
   "metadata": {},
   "outputs": [],
   "source": [
    "max_num_night_shift = 1\n",
    "max_threshold_tabu_search = 10\n",
    "num_back_track = 0\n",
    "max_back_track = 50000\n",
    "all_nurses = range(num_nurses)\n",
    "all_shifts = range(num_shifts)\n",
    "all_days = range(num_days)\n",
    "domain = {}\n",
    "decision_variable = {}\n",
    "primary_solution = []"
   ]
  },
  {
   "cell_type": "markdown",
   "metadata": {},
   "source": [
    "### Initiation domain and decision varibales"
   ]
  },
  {
   "cell_type": "code",
   "execution_count": 4,
   "metadata": {},
   "outputs": [],
   "source": [
    "def initiation_domain_variable():\n",
    "    for n in all_nurses:\n",
    "        for d in all_days:\n",
    "            domain[(n, d)] = set(all_shifts)\n",
    "            decision_variable[(n, d)] = -1"
   ]
  },
  {
   "cell_type": "markdown",
   "metadata": {},
   "source": [
    "## Define methods which are used in project"
   ]
  },
  {
   "cell_type": "markdown",
   "metadata": {},
   "source": [
    "#### Print solution"
   ]
  },
  {
   "cell_type": "code",
   "execution_count": 5,
   "metadata": {},
   "outputs": [],
   "source": [
    "def print_solution(source_to_print):\n",
    "    for n in all_nurses:\n",
    "        for d in all_days:\n",
    "            print(\"%i\" % source_to_print[(n, d)], end=\" \")\n",
    "        print()\n",
    "    print(\"Total ability = %i\" % get_value_of_function_objective(source_to_print, ability_nurses))"
   ]
  },
  {
   "cell_type": "markdown",
   "metadata": {},
   "source": [
    "#### Get number of night shift of an nurse \"n\" from day 1 -> d"
   ]
  },
  {
   "cell_type": "code",
   "execution_count": 6,
   "metadata": {},
   "outputs": [],
   "source": [
    "def get_number_night_shift_of_nurse(n, d, source_to_check):\n",
    "    sum_night_shift = 0\n",
    "    for i in range(d):\n",
    "        sum_night_shift = sum_night_shift + (1 if source_to_check[(n, i)] == 2 else 0)\n",
    "\n",
    "    return sum_night_shift"
   ]
  },
  {
   "cell_type": "markdown",
   "metadata": {},
   "source": [
    "#### Calculating value of an solution. This is denoted for function objective F"
   ]
  },
  {
   "cell_type": "code",
   "execution_count": 7,
   "metadata": {},
   "outputs": [],
   "source": [
    "def get_value_of_function_objective(source_to_get_value, data):\n",
    "    sum_ability = 0\n",
    "    for n in all_nurses:\n",
    "        for d in all_days:\n",
    "            working_shift = source_to_get_value[(n, d)]\n",
    "            if working_shift != 3:\n",
    "                sum_ability = sum_ability + data[n][working_shift]\n",
    "\n",
    "            # penalty for night -> morning:\n",
    "            if working_shift == 0 and (d > 0 and source_to_get_value[(n, d - 1)] == 2):\n",
    "                sum_ability = sum_ability - w_1\n",
    "\n",
    "            # bonus for free free\n",
    "            if working_shift == 3 and (d > 0 and source_to_get_value[(n, d - 1)] == 3):\n",
    "                sum_ability = sum_ability + w_2\n",
    "\n",
    "            # morning free\n",
    "            if working_shift == 3 and (d > 0 and source_to_get_value[(n, d - 1)] == 0):\n",
    "                sum_ability = sum_ability + w_3\n",
    "\n",
    "            # free night\n",
    "            if working_shift == 2 and (d > 0 and source_to_get_value[(n, d - 1)] == 3):\n",
    "                sum_ability = sum_ability + w_4\n",
    "\n",
    "    return sum_ability"
   ]
  },
  {
   "cell_type": "markdown",
   "metadata": {},
   "source": [
    "#### Checking constraint minimum nurse required for one day"
   ]
  },
  {
   "cell_type": "code",
   "execution_count": 8,
   "metadata": {},
   "outputs": [],
   "source": [
    "def check_minimum_nurses_required(source_to_check):\n",
    "    for d in all_days:\n",
    "        nurse_morning_shift = 0\n",
    "        nurse_afternoon_shift = 0\n",
    "        nurse_night_shift = 0\n",
    "\n",
    "        for n in all_nurses:\n",
    "            shift_type = source_to_check[(n, d)]\n",
    "            # sum morning shift\n",
    "            if shift_type == 0:\n",
    "                nurse_morning_shift += 1\n",
    "            # sum afternoon shift\n",
    "            elif shift_type == 1:\n",
    "                nurse_afternoon_shift += 1\n",
    "            # sum night shift\n",
    "            elif shift_type == 2:\n",
    "                nurse_night_shift += 1\n",
    "\n",
    "        if nurse_morning_shift < n_0 or nurse_afternoon_shift < n_1 or nurse_night_shift < n_2:\n",
    "            return False\n",
    "\n",
    "    return True"
   ]
  },
  {
   "cell_type": "markdown",
   "metadata": {},
   "source": [
    "#### Check constraint number night shift in a period should be less than \"t\""
   ]
  },
  {
   "cell_type": "code",
   "execution_count": 9,
   "metadata": {},
   "outputs": [],
   "source": [
    "def check_number_night_shift(source_to_check):\n",
    "    for n in all_nurses:\n",
    "        if get_number_night_shift_of_nurse(n, num_days, source_to_check) > max_num_night_shift:\n",
    "            return False\n",
    "\n",
    "    return True"
   ]
  },
  {
   "cell_type": "markdown",
   "metadata": {},
   "source": [
    "#### Check constraint ability to perform a task of nurse \"n\" in shift \"s\""
   ]
  },
  {
   "cell_type": "code",
   "execution_count": 10,
   "metadata": {},
   "outputs": [],
   "source": [
    "def check_ability_perform_shift(n, s, data):\n",
    "    if s == 3:\n",
    "        return True\n",
    "    else:\n",
    "        return data[n][s] != 0"
   ]
  },
  {
   "cell_type": "markdown",
   "metadata": {},
   "source": [
    "#### Non binary checking method for nurse \"n\" in day \"d\""
   ]
  },
  {
   "cell_type": "code",
   "execution_count": 11,
   "metadata": {},
   "outputs": [],
   "source": [
    "def non_binary_checking_cp(n, d):\n",
    "    domain_copy = copy.deepcopy(domain)\n",
    "    current_number_night_shift = get_number_night_shift_of_nurse(n, d, domain)\n",
    "    for i in range(d + 1, num_days):\n",
    "        for s in domain[(n, i)]:\n",
    "            if current_number_night_shift + (1 if s == 2 else 0) > max_num_night_shift:\n",
    "                domain_copy[(n, i)].remove(s)\n",
    "\n",
    "            if not domain_copy[(n, i)]:\n",
    "                return False\n",
    "\n",
    "    return True"
   ]
  },
  {
   "cell_type": "markdown",
   "metadata": {},
   "source": [
    "#### Forward checking method"
   ]
  },
  {
   "cell_type": "code",
   "execution_count": 12,
   "metadata": {},
   "outputs": [],
   "source": [
    "def check_forward(n, d):\n",
    "    global num_back_track\n",
    "\n",
    "    value_random = random.sample(domain[(n, d)], 1)[0]\n",
    "\n",
    "    if not check_ability_perform_shift(n, value_random, ability_nurses):\n",
    "        num_back_track = num_back_track + 1\n",
    "        return 2\n",
    "\n",
    "    if get_number_night_shift_of_nurse(n, d, decision_variable) + (1 if value_random == 2 else 0) > max_num_night_shift:\n",
    "        num_back_track = num_back_track + 1\n",
    "        return 2\n",
    "\n",
    "    decision_variable[(n, d)] = value_random\n",
    "\n",
    "    if n == num_nurses - 1 and d == num_days - 1:\n",
    "        if check_minimum_nurses_required(decision_variable):\n",
    "            primary_solution.append(copy.deepcopy(decision_variable))\n",
    "            return 1\n",
    "\n",
    "        num_back_track = num_back_track + 1\n",
    "        return 2\n",
    "\n",
    "    next_day = (d + 1) % num_days\n",
    "    next_nurse = n + (1 if next_day % num_days == 0 else 0)\n",
    "    decision = check_forward(next_nurse, next_day)\n",
    "    if decision != 0:\n",
    "        return decision\n",
    "\n",
    "    decision_variable[(n, d)] = -1\n",
    "\n",
    "    num_back_track = num_back_track + 1\n",
    "    if num_back_track >= max_back_track:\n",
    "        return 2\n",
    "\n",
    "    return 0"
   ]
  },
  {
   "cell_type": "markdown",
   "metadata": {},
   "source": [
    "#### Tabu search local adjustment"
   ]
  },
  {
   "cell_type": "code",
   "execution_count": 13,
   "metadata": {},
   "outputs": [],
   "source": [
    "def tabu_seach_local_adjustment(source_to_adjust):\n",
    "    result = source_to_adjust.copy()\n",
    "    best = get_value_of_function_objective(source_to_adjust, ability_nurses)\n",
    "\n",
    "    for d in all_days:\n",
    "        for i in all_nurses:\n",
    "            for k in all_nurses:\n",
    "                if i != k:\n",
    "                    current_decision_variable = copy.deepcopy(result)\n",
    "                    current_decision_variable[(i, d)], current_decision_variable[(k, d)] = current_decision_variable[(k, d)], current_decision_variable[(i, d)]\n",
    "                    if check_minimum_nurses_required(current_decision_variable):\n",
    "                        if check_number_night_shift(current_decision_variable):\n",
    "                            if check_ability_perform_shift(i, current_decision_variable[(i, d)], ability_nurses):\n",
    "                                if check_ability_perform_shift(k, current_decision_variable[(k, d)], ability_nurses):\n",
    "                                    current_value = get_value_of_function_objective(current_decision_variable, ability_nurses)\n",
    "                                    if current_value > best:\n",
    "                                        best = current_value\n",
    "                                        result = current_decision_variable.copy()\n",
    "\n",
    "    return result\n"
   ]
  },
  {
   "cell_type": "markdown",
   "metadata": {},
   "source": [
    "#### Tabu search main"
   ]
  },
  {
   "cell_type": "code",
   "execution_count": 14,
   "metadata": {},
   "outputs": [],
   "source": [
    "def tabu_search(source_to_search):\n",
    "    result = copy.deepcopy(source_to_search)\n",
    "    best = get_value_of_function_objective(result, ability_nurses)\n",
    "    threshold = 0\n",
    "    while threshold < max_threshold_tabu_search:\n",
    "        tmp_solution = tabu_seach_local_adjustment(source_to_search)\n",
    "        tmp_value = get_value_of_function_objective(tmp_solution, ability_nurses)\n",
    "        if tmp_value > best:\n",
    "            best = tmp_value\n",
    "            result = copy.deepcopy(tmp_solution)\n",
    "        source_to_search = tmp_solution.copy()\n",
    "\n",
    "        threshold = threshold + 1\n",
    "\n",
    "    return result"
   ]
  },
  {
   "cell_type": "markdown",
   "metadata": {},
   "source": [
    "#### Main method"
   ]
  },
  {
   "cell_type": "code",
   "execution_count": 15,
   "metadata": {
    "scrolled": true
   },
   "outputs": [
    {
     "name": "stdout",
     "output_type": "stream",
     "text": [
      "2 1 1 \n",
      "0 0 0 \n",
      "1 1 1 \n",
      "3 2 1 \n",
      "0 3 2 \n",
      "1 0 0 \n",
      "Total ability = 48\n",
      "Time:  12.244135400456772\n"
     ]
    }
   ],
   "source": [
    "def main():\n",
    "    # declaration\n",
    "    global domain\n",
    "\n",
    "    # initiation\n",
    "    initiation_domain_variable()\n",
    "\n",
    "    # FC_CBJ_NONBINARY_CP algorithm - first phase\n",
    "    domain_backup = domain.copy()\n",
    "    while num_back_track < max_back_track:\n",
    "        decision = check_forward(0, 0)\n",
    "        if decision == 2:\n",
    "            domain = copy.deepcopy(domain_backup)\n",
    "\n",
    "    # Enhance result by tabu-search - second phase\n",
    "    if primary_solution:\n",
    "        result = tabu_search(primary_solution[0])\n",
    "        best = get_value_of_function_objective(result, ability_nurses)\n",
    "        for i in range(1, len(primary_solution)):\n",
    "            primary_solution[i] = tabu_search(primary_solution[i])\n",
    "            current = get_value_of_function_objective(primary_solution[i], ability_nurses)\n",
    "            if best < current:\n",
    "                best = current\n",
    "                result = primary_solution[i].copy()\n",
    "\n",
    "        print_solution(result)\n",
    "    else:\n",
    "        print(\"No solution found\")\n",
    "\n",
    "\n",
    "if __name__ == '__main__':\n",
    "    # Start timer\n",
    "    start = timeit.default_timer()\n",
    "\n",
    "    # Start solving problem\n",
    "    main()\n",
    "\n",
    "    # Stop timer\n",
    "    stop = timeit.default_timer()\n",
    "\n",
    "    # Print time execution\n",
    "    print('Time: ', stop - start)\n"
   ]
  },
  {
   "cell_type": "code",
   "execution_count": null,
   "metadata": {},
   "outputs": [],
   "source": []
  }
 ],
 "metadata": {
  "kernelspec": {
   "display_name": "Python 3",
   "language": "python",
   "name": "python3"
  },
  "language_info": {
   "codemirror_mode": {
    "name": "ipython",
    "version": 3
   },
   "file_extension": ".py",
   "mimetype": "text/x-python",
   "name": "python",
   "nbconvert_exporter": "python",
   "pygments_lexer": "ipython3",
   "version": "3.6.4"
  }
 },
 "nbformat": 4,
 "nbformat_minor": 2
}
